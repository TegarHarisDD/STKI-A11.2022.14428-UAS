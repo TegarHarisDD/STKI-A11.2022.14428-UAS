{
 "cells": [
  {
   "cell_type": "markdown",
   "metadata": {
    "id": "-wDJWje_GjC1"
   },
   "source": [
    "## install library ekphrasis"
   ]
  },
  {
   "cell_type": "code",
   "execution_count": 1,
   "metadata": {
    "colab": {
     "base_uri": "https://localhost:8080/"
    },
    "executionInfo": {
     "elapsed": 6142,
     "status": "ok",
     "timestamp": 1665402305421,
     "user": {
      "displayName": "farrikh alzami",
      "userId": "11964535993149439504"
     },
     "user_tz": -420
    },
    "id": "yVnJu5rLGll3",
    "outputId": "09789236-8148-41ac-95b4-d28bf8cbbdf5"
   },
   "outputs": [
    {
     "name": "stdout",
     "output_type": "stream",
     "text": [
      "Requirement already satisfied: ekphrasis in c:\\users\\tegar\\appdata\\local\\programs\\python\\python310\\lib\\site-packages (0.5.4)\n",
      "Requirement already satisfied: termcolor in c:\\users\\tegar\\appdata\\local\\programs\\python\\python310\\lib\\site-packages (from ekphrasis) (2.5.0)\n",
      "Requirement already satisfied: ftfy in c:\\users\\tegar\\appdata\\local\\programs\\python\\python310\\lib\\site-packages (from ekphrasis) (6.3.1)\n",
      "Requirement already satisfied: ujson in c:\\users\\tegar\\appdata\\local\\programs\\python\\python310\\lib\\site-packages (from ekphrasis) (5.10.0)\n",
      "Requirement already satisfied: nltk in c:\\users\\tegar\\appdata\\local\\programs\\python\\python310\\lib\\site-packages (from ekphrasis) (3.9.1)\n",
      "Requirement already satisfied: numpy in c:\\users\\tegar\\appdata\\local\\programs\\python\\python310\\lib\\site-packages (from ekphrasis) (1.26.4)\n",
      "Requirement already satisfied: matplotlib in c:\\users\\tegar\\appdata\\local\\programs\\python\\python310\\lib\\site-packages (from ekphrasis) (3.9.2)\n",
      "Requirement already satisfied: tqdm in c:\\users\\tegar\\appdata\\local\\programs\\python\\python310\\lib\\site-packages (from ekphrasis) (4.67.1)\n",
      "Requirement already satisfied: colorama in c:\\users\\tegar\\appdata\\roaming\\python\\python310\\site-packages (from ekphrasis) (0.4.6)\n",
      "Requirement already satisfied: wcwidth in c:\\users\\tegar\\appdata\\roaming\\python\\python310\\site-packages (from ftfy->ekphrasis) (0.2.13)\n",
      "Requirement already satisfied: python-dateutil>=2.7 in c:\\users\\tegar\\appdata\\roaming\\python\\python310\\site-packages (from matplotlib->ekphrasis) (2.9.0.post0)\n",
      "Requirement already satisfied: contourpy>=1.0.1 in c:\\users\\tegar\\appdata\\local\\programs\\python\\python310\\lib\\site-packages (from matplotlib->ekphrasis) (1.3.0)\n",
      "Requirement already satisfied: kiwisolver>=1.3.1 in c:\\users\\tegar\\appdata\\local\\programs\\python\\python310\\lib\\site-packages (from matplotlib->ekphrasis) (1.4.7)\n",
      "Requirement already satisfied: packaging>=20.0 in c:\\users\\tegar\\appdata\\roaming\\python\\python310\\site-packages (from matplotlib->ekphrasis) (24.1)\n",
      "Requirement already satisfied: cycler>=0.10 in c:\\users\\tegar\\appdata\\local\\programs\\python\\python310\\lib\\site-packages (from matplotlib->ekphrasis) (0.12.1)\n",
      "Requirement already satisfied: pillow>=8 in c:\\users\\tegar\\appdata\\local\\programs\\python\\python310\\lib\\site-packages (from matplotlib->ekphrasis) (11.0.0)\n",
      "Requirement already satisfied: fonttools>=4.22.0 in c:\\users\\tegar\\appdata\\local\\programs\\python\\python310\\lib\\site-packages (from matplotlib->ekphrasis) (4.54.1)\n",
      "Requirement already satisfied: pyparsing>=2.3.1 in c:\\users\\tegar\\appdata\\local\\programs\\python\\python310\\lib\\site-packages (from matplotlib->ekphrasis) (3.2.0)\n",
      "Requirement already satisfied: click in c:\\users\\tegar\\appdata\\local\\programs\\python\\python310\\lib\\site-packages (from nltk->ekphrasis) (8.1.7)\n",
      "Requirement already satisfied: regex>=2021.8.3 in c:\\users\\tegar\\appdata\\local\\programs\\python\\python310\\lib\\site-packages (from nltk->ekphrasis) (2024.11.6)\n",
      "Requirement already satisfied: joblib in c:\\users\\tegar\\appdata\\local\\programs\\python\\python310\\lib\\site-packages (from nltk->ekphrasis) (1.4.2)\n",
      "Requirement already satisfied: six>=1.5 in c:\\users\\tegar\\appdata\\roaming\\python\\python310\\site-packages (from python-dateutil>=2.7->matplotlib->ekphrasis) (1.16.0)\n"
     ]
    },
    {
     "name": "stderr",
     "output_type": "stream",
     "text": [
      "WARNING: Ignoring invalid distribution -rotobuf (c:\\users\\tegar\\appdata\\local\\programs\\python\\python310\\lib\\site-packages)\n",
      "WARNING: Ignoring invalid distribution -rotobuf (c:\\users\\tegar\\appdata\\local\\programs\\python\\python310\\lib\\site-packages)\n",
      "WARNING: Ignoring invalid distribution -rotobuf (c:\\users\\tegar\\appdata\\local\\programs\\python\\python310\\lib\\site-packages)\n",
      "WARNING: Ignoring invalid distribution -rotobuf (c:\\users\\tegar\\appdata\\local\\programs\\python\\python310\\lib\\site-packages)\n",
      "WARNING: Ignoring invalid distribution -rotobuf (c:\\users\\tegar\\appdata\\local\\programs\\python\\python310\\lib\\site-packages)\n",
      "WARNING: Ignoring invalid distribution -rotobuf (c:\\users\\tegar\\appdata\\local\\programs\\python\\python310\\lib\\site-packages)\n",
      "\n",
      "[notice] A new release of pip is available: 23.0.1 -> 24.3.1\n",
      "[notice] To update, run: python.exe -m pip install --upgrade pip\n"
     ]
    }
   ],
   "source": [
    "!pip install ekphrasis"
   ]
  },
  {
   "cell_type": "code",
   "execution_count": 2,
   "metadata": {},
   "outputs": [],
   "source": [
    "from ekphrasis.classes.preprocessor import TextPreProcessor\n",
    "from ekphrasis.classes.tokenizer import SocialTokenizer\n",
    "from ekphrasis.dicts.emoticons import emoticons"
   ]
  },
  {
   "cell_type": "code",
   "execution_count": 3,
   "metadata": {
    "colab": {
     "base_uri": "https://localhost:8080/"
    },
    "executionInfo": {
     "elapsed": 35535,
     "status": "ok",
     "timestamp": 1665402353083,
     "user": {
      "displayName": "farrikh alzami",
      "userId": "11964535993149439504"
     },
     "user_tz": -420
    },
    "id": "-K8JCsz3GTev",
    "outputId": "60871e46-23d0-4ca2-f20f-74a9b0dc6b76"
   },
   "outputs": [
    {
     "name": "stderr",
     "output_type": "stream",
     "text": [
      "c:\\Users\\tegar\\AppData\\Local\\Programs\\Python\\Python310\\lib\\site-packages\\ekphrasis\\classes\\tokenizer.py:225: FutureWarning: Possible nested set at position 2190\n",
      "  self.tok = re.compile(r\"({})\".format(\"|\".join(pipeline)))\n"
     ]
    },
    {
     "name": "stdout",
     "output_type": "stream",
     "text": [
      "Reading twitter - 1grams ...\n",
      "Reading twitter - 2grams ...\n",
      "Reading twitter - 1grams ...\n"
     ]
    },
    {
     "name": "stderr",
     "output_type": "stream",
     "text": [
      "c:\\Users\\tegar\\AppData\\Local\\Programs\\Python\\Python310\\lib\\site-packages\\ekphrasis\\classes\\exmanager.py:14: FutureWarning: Possible nested set at position 42\n",
      "  regexes = {k.lower(): re.compile(self.expressions[k]) for k, v in\n"
     ]
    }
   ],
   "source": [
    "text_processor = TextPreProcessor(\n",
    "    normalize=['email', 'percent', 'money', 'phone', 'user', 'time', 'date', 'number'],\n",
    "    annotate={\"hashtag\", \"allcaps\", \"elongated\", \"repeated\", 'emphasis', 'censored'},\n",
    "    fix_html=True,\n",
    "    segmenter=\"twitter\", \n",
    "    corrector=\"twitter\", \n",
    "    unpack_hashtags=True,\n",
    "    unpack_contractions=True,\n",
    "    spell_correct_elong=False,\n",
    "    tokenizer=SocialTokenizer(lowercase=True).tokenize,\n",
    "    dicts=[emoticons]\n",
    ")"
   ]
  },
  {
   "cell_type": "code",
   "execution_count": 4,
   "metadata": {
    "executionInfo": {
     "elapsed": 10,
     "status": "ok",
     "timestamp": 1665402353083,
     "user": {
      "displayName": "farrikh alzami",
      "userId": "11964535993149439504"
     },
     "user_tz": -420
    },
    "id": "-RsRWIE1GZhF"
   },
   "outputs": [],
   "source": [
    "def preprocess_teks(teks):\n",
    "    \"\"\"\n",
    "    Fungsi untuk melakukan preprocessing teks menggunakan Ekphrasis\n",
    "    \n",
    "    Parameters:\n",
    "    -----------\n",
    "    teks : str\n",
    "        Teks yang akan dipreprocess\n",
    "    \n",
    "    Returns:\n",
    "    --------\n",
    "    str\n",
    "        Teks yang sudah dipreprocess\n",
    "    \"\"\"\n",
    "    return \" \".join(text_processor.pre_process_doc(teks))\n"
   ]
  },
  {
   "cell_type": "code",
   "execution_count": 5,
   "metadata": {
    "executionInfo": {
     "elapsed": 2,
     "status": "ok",
     "timestamp": 1665402455059,
     "user": {
      "displayName": "farrikh alzami",
      "userId": "11964535993149439504"
     },
     "user_tz": -420
    },
    "id": "43JbCIPcHOrZ"
   },
   "outputs": [],
   "source": [
    "contoh_kasus = [\n",
    "    # Kasus 1: Teks dengan email dan nomor telepon\n",
    "    \"Hubungi saya di email keren123@gmail.com atau telepon 08123456789\",\n",
    "    \n",
    "    # Kasus 2: Teks dengan uang dan tanggal\n",
    "    \"Transaksi sebesar Rp. 500.000 dilakukan pada tanggal 25-12-2023\",\n",
    "    \n",
    "    # Kasus 3: Teks dengan kapitalisasi berlebihan dan emoji\n",
    "    \"HALOOOOO SEMUANYAAAA !!! Aku SANGAT SENANG :) :D\",\n",
    "    \n",
    "    # Kasus 4: Teks dengan hashtag dan kata yang dipanjangkan\n",
    "    \"Ini adalah #tutorial preprocessing teks yang sangat panjaaaang\",\n",
    "    \n",
    "    # Kasus 5: Teks campuran dengan berbagai kondisi\n",
    "    \"@username berbicara tentang scam 100% dengan nada MARAH!!! #penipuan #awastipu\"\n",
    "]"
   ]
  },
  {
   "cell_type": "code",
   "execution_count": 6,
   "metadata": {
    "executionInfo": {
     "elapsed": 3,
     "status": "ok",
     "timestamp": 1665402455528,
     "user": {
      "displayName": "farrikh alzami",
      "userId": "11964535993149439504"
     },
     "user_tz": -420
    },
    "id": "79ci5nPWISGs"
   },
   "outputs": [
    {
     "name": "stdout",
     "output_type": "stream",
     "text": [
      "\n",
      "Contoh Kasus 1:\n",
      "Asli     : Hubungi saya di email keren123@gmail.com atau telepon 08123456789\n",
      "Preproses: hubungi saya di email <email> atau telepon <number>\n",
      "\n",
      "Contoh Kasus 2:\n",
      "Asli     : Transaksi sebesar Rp. 500.000 dilakukan pada tanggal 25-12-2023\n",
      "Preproses: transaksi sebesar rp . <number> dilakukan pada tanggal <date>\n",
      "\n",
      "Contoh Kasus 3:\n",
      "Asli     : HALOOOOO SEMUANYAAAA !!! Aku SANGAT SENANG :) :D\n",
      "Preproses: <allcaps> halo <elongated> semuanya <elongated> </allcaps> ! <repeated> aku <allcaps> sangat senang </allcaps> <happy> <laugh>\n",
      "\n",
      "Contoh Kasus 4:\n",
      "Asli     : Ini adalah #tutorial preprocessing teks yang sangat panjaaaang\n",
      "Preproses: ini adalah <hashtag> tutorial </hashtag> preprocessing teks yang sangat panjang <elongated>\n",
      "\n",
      "Contoh Kasus 5:\n",
      "Asli     : @username berbicara tentang scam 100% dengan nada MARAH!!! #penipuan #awastipu\n",
      "Preproses: <user> berbicara tentang scam <percent> dengan nada <allcaps> marah </allcaps> ! <repeated> <hashtag> penipu an </hashtag> <hashtag> a was tipu </hashtag>\n"
     ]
    }
   ],
   "source": [
    "for i, teks in enumerate(contoh_kasus, 1):\n",
    "    print(f\"\\nContoh Kasus {i}:\")\n",
    "    print(\"Asli     :\", teks)\n",
    "    print(\"Preproses:\", preprocess_teks(teks))"
   ]
  }
 ],
 "metadata": {
  "colab": {
   "authorship_tag": "ABX9TyMqoYYzrTifnu1RGmIEio7i",
   "collapsed_sections": [],
   "provenance": []
  },
  "kernelspec": {
   "display_name": "Python 3",
   "language": "python",
   "name": "python3"
  },
  "language_info": {
   "codemirror_mode": {
    "name": "ipython",
    "version": 3
   },
   "file_extension": ".py",
   "mimetype": "text/x-python",
   "name": "python",
   "nbconvert_exporter": "python",
   "pygments_lexer": "ipython3",
   "version": "3.10.11"
  }
 },
 "nbformat": 4,
 "nbformat_minor": 1
}
