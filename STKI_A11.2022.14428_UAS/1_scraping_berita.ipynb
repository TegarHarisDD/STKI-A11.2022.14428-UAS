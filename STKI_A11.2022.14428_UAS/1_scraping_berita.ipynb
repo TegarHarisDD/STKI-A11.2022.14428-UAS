{
  "cells": [
    {
      "cell_type": "markdown",
      "metadata": {},
      "source": [
        "# Scraper Berita Detik.com\n",
        "\n",
        "## Gambaran Umum\n",
        "Notebook ini mengimplementasikan web scraper untuk Detik.com, salah satu situs berita utama di Indonesia. Scraper ini mengumpulkan artikel berita dari berbagai kategori, dengan mengekstrak informasi berupa judul, tanggal, konten, dan kategori.\n",
        "\n",
        "## Fitur\n",
        "- Pengambilan berita dari berbagai kategori\n",
        "- Penanganan paginasi secara otomatis\n",
        "- Menyaring konten video dan infografik\n",
        "- Ekspor data ke format CSV\n",
        "\n",
        "## Dependensi\n",
        "- BeautifulSoup4: Untuk parsing HTML\n",
        "- requests: Untuk melakukan permintaan HTTP\n",
        "- pandas: Untuk manipulasi dan ekspor data\n",
        "- tqdm: Untuk pelacakan progres\n",
        "- matplotlib: Untuk visualisasi data"
      ]
    },
    {
      "cell_type": "code",
      "execution_count": 12,
      "metadata": {
        "id": "vzz_cJnSchJN"
      },
      "outputs": [],
      "source": [
        "# Import libraries\n",
        "import os\n",
        "from bs4 import BeautifulSoup as bs\n",
        "from tqdm import tqdm \n",
        "import requests\n",
        "import pandas as pd"
      ]
    },
    {
      "cell_type": "markdown",
      "metadata": {},
      "source": [
        "## Kategori Berita yang Tersedia\n",
        "\n",
        "Scraper ini mendukung kategori-kategori berikut dari Detik.com:\n",
        "\n",
        "### Grup Kategori 1 (Format URL Standar)\n",
        "- **finance**: Berita ekonomi, bisnis, dan investasi\n",
        "- **inet**: Berita teknologi, informasi, dan gadget\n",
        "- **sport**: Liputan olahraga\n",
        "- **oto**: Berita otomotif (dalam dan luar negeri)\n",
        "- **travel**: Inspirasi perjalanan dan destinasi wisata\n",
        "- **food**: Berita kuliner, resep, dan rekomendasi restoran\n",
        "- **health**: Artikel kesehatan, diet, dan konsultasi\n",
        "\n",
        "### Grup Kategori 2 (Format URL Alternatif)\n",
        "- **edu**: Berita dan pembaruan pendidikan\n",
        "- **properti**: Berita properti, daftar properti, dan pembaruan pasar\n",
        "\n",
        "Catatan: Kategori dibagi menjadi dua grup karena perbedaan struktur URL pada Detik.com."
      ]
    },
    {
      "cell_type": "code",
      "execution_count": 2,
      "metadata": {
        "id": "chAQbaFXdBbt"
      },
      "outputs": [],
      "source": [
        "# Bagi kategori\n",
        "kategori1 = ['finance', 'inet', 'sport', 'oto', 'travel', 'food', 'health']\n",
        "kategori2 = ['edu', 'properti']\n",
        "\n",
        "# Parameters\n",
        "halaman = 5  # jumlah halaman(tiap halaman sekitar 20 berita)\n",
        "berita = []  # List untuk menyimpan berita hasil scraping"
      ]
    },
    {
      "cell_type": "markdown",
      "metadata": {},
      "source": [
        "## Implementasi Scraping\n",
        "\n",
        "Proses scraping dibagi menjadi dua bagian utama untuk menangani perbedaan struktur URL. Setiap bagian mengikuti langkah-langkah berikut:\n",
        "\n",
        "1. Melakukan iterasi pada kategori\n",
        "2. Menavigasi sejumlah halaman yang ditentukan\n",
        "3. Mengekstrak tautan artikel dari halaman indeks\n",
        "4. Mengunjungi setiap halaman artikel untuk mengekstrak konten lengkap\n",
        "5. Memproses dan menyimpan data\n",
        "\n",
        "### Proses Ekstraksi Data\n",
        "- Judul dibersihkan dari karakter khusus dan spasi yang tidak perlu\n",
        "- Konten berupa video dan infografik disaring\n",
        "- Tanggal distandarkan ke format yang konsisten\n",
        "- Konten artikel diekstrak dari elemen paragraf"
      ]
    },
    {
      "cell_type": "code",
      "execution_count": 3,
      "metadata": {
        "id": "F6SNC2pWeGnT"
      },
      "outputs": [
        {
          "name": "stdout",
          "output_type": "stream",
          "text": [
            "Kategori - finance:\n"
          ]
        },
        {
          "name": "stderr",
          "output_type": "stream",
          "text": [
            "\tHalaman - 1: 100%|██████████| 5/5 [00:06<00:00,  1.23s/it]\n",
            "\tHalaman - 2: 100%|██████████| 5/5 [00:21<00:00,  4.25s/it]\n",
            "\tHalaman - 3: 100%|██████████| 5/5 [00:21<00:00,  4.29s/it]\n",
            "\tHalaman - 4: 100%|██████████| 5/5 [00:14<00:00,  2.95s/it]\n",
            "\tHalaman - 5: 100%|██████████| 5/5 [00:19<00:00,  3.92s/it]\n"
          ]
        },
        {
          "name": "stdout",
          "output_type": "stream",
          "text": [
            "Kategori - inet:\n"
          ]
        },
        {
          "name": "stderr",
          "output_type": "stream",
          "text": [
            "\tHalaman - 1: 100%|██████████| 5/5 [00:12<00:00,  2.55s/it]\n",
            "\tHalaman - 2: 100%|██████████| 5/5 [00:13<00:00,  2.76s/it]\n",
            "\tHalaman - 3: 100%|██████████| 5/5 [00:13<00:00,  2.67s/it]\n",
            "\tHalaman - 4: 100%|██████████| 5/5 [00:11<00:00,  2.31s/it]\n",
            "\tHalaman - 5: 100%|██████████| 5/5 [00:13<00:00,  2.69s/it]\n"
          ]
        },
        {
          "name": "stdout",
          "output_type": "stream",
          "text": [
            "Kategori - sport:\n"
          ]
        },
        {
          "name": "stderr",
          "output_type": "stream",
          "text": [
            "\tHalaman - 1: 100%|██████████| 5/5 [00:10<00:00,  2.14s/it]\n",
            "\tHalaman - 2: 100%|██████████| 5/5 [00:21<00:00,  4.36s/it]\n",
            "\tHalaman - 3: 100%|██████████| 5/5 [00:23<00:00,  4.62s/it]\n",
            "\tHalaman - 4: 100%|██████████| 5/5 [00:20<00:00,  4.10s/it]\n",
            "\tHalaman - 5: 100%|██████████| 5/5 [00:21<00:00,  4.28s/it]\n"
          ]
        },
        {
          "name": "stdout",
          "output_type": "stream",
          "text": [
            "Kategori - oto:\n"
          ]
        },
        {
          "name": "stderr",
          "output_type": "stream",
          "text": [
            "\tHalaman - 1: 100%|██████████| 5/5 [00:07<00:00,  1.59s/it]\n",
            "\tHalaman - 2: 100%|██████████| 5/5 [00:17<00:00,  3.46s/it]\n",
            "\tHalaman - 3: 100%|██████████| 5/5 [00:15<00:00,  3.00s/it]\n",
            "\tHalaman - 4: 100%|██████████| 5/5 [00:16<00:00,  3.38s/it]\n",
            "\tHalaman - 5: 100%|██████████| 5/5 [00:19<00:00,  3.88s/it]\n"
          ]
        },
        {
          "name": "stdout",
          "output_type": "stream",
          "text": [
            "Kategori - travel:\n"
          ]
        },
        {
          "name": "stderr",
          "output_type": "stream",
          "text": [
            "\tHalaman - 1: 100%|██████████| 5/5 [00:15<00:00,  3.11s/it]\n",
            "\tHalaman - 2: 100%|██████████| 5/5 [00:22<00:00,  4.52s/it]\n",
            "\tHalaman - 3: 100%|██████████| 5/5 [00:30<00:00,  6.03s/it]\n",
            "\tHalaman - 4: 100%|██████████| 5/5 [00:26<00:00,  5.31s/it]\n",
            "\tHalaman - 5: 100%|██████████| 5/5 [00:23<00:00,  4.62s/it]\n"
          ]
        },
        {
          "name": "stdout",
          "output_type": "stream",
          "text": [
            "Kategori - food:\n"
          ]
        },
        {
          "name": "stderr",
          "output_type": "stream",
          "text": [
            "\tHalaman - 1: 100%|██████████| 5/5 [00:17<00:00,  3.53s/it]\n",
            "\tHalaman - 2: 100%|██████████| 5/5 [00:24<00:00,  4.92s/it]\n",
            "\tHalaman - 3: 100%|██████████| 5/5 [00:31<00:00,  6.25s/it]\n",
            "\tHalaman - 4: 100%|██████████| 5/5 [00:27<00:00,  5.41s/it]\n",
            "\tHalaman - 5: 100%|██████████| 5/5 [00:28<00:00,  5.65s/it]\n"
          ]
        },
        {
          "name": "stdout",
          "output_type": "stream",
          "text": [
            "Kategori - health:\n"
          ]
        },
        {
          "name": "stderr",
          "output_type": "stream",
          "text": [
            "\tHalaman - 1: 100%|██████████| 5/5 [00:14<00:00,  2.87s/it]\n",
            "\tHalaman - 2: 100%|██████████| 5/5 [00:23<00:00,  4.63s/it]\n",
            "\tHalaman - 3: 100%|██████████| 5/5 [00:23<00:00,  4.68s/it]\n",
            "\tHalaman - 4: 100%|██████████| 5/5 [00:23<00:00,  4.75s/it]\n",
            "\tHalaman - 5: 100%|██████████| 5/5 [00:23<00:00,  4.73s/it]\n"
          ]
        }
      ],
      "source": [
        "# Implementasi Scraping untuk Grup Kategori 1\n",
        "for i in kategori1:\n",
        "    print(f\"Kategori - {i}:\")\n",
        "    for ii in range(halaman):\n",
        "        # Membuat URL untuk halaman saat ini\n",
        "        url = f'https://{i}.detik.com/indeks?page={ii+1}'\n",
        "\n",
        "        # Mengambil dan mem-parse HTML\n",
        "        html = requests.get(url).text\n",
        "        soup = bs(html, 'html.parser')\n",
        "\n",
        "        # Mencari semua kontainer artikel\n",
        "        container = soup.find_all(\"div\", class_=\"container\")\n",
        "\n",
        "        # Memproses setiap kontainer\n",
        "        for containers in tqdm(container, desc=f\"\\tHalaman - {ii+1}\"):\n",
        "            articles = containers.find_all(\"article\", class_=\"list-content__item\")\n",
        "\n",
        "            for article in articles:\n",
        "                # Mengekstrak dan membersihkan judul\n",
        "                judul = article.find(\"h3\", class_=\"media__title\").text.strip()\n",
        "\n",
        "                # Melewati konten video dan infografik\n",
        "                if judul.startswith(\"Video\") or judul.startswith(\"Infografis\"):\n",
        "                    continue\n",
        "\n",
        "                # Mendapatkan URL artikel\n",
        "                link = article.find(\"a\")[\"href\"]\n",
        "\n",
        "                # Mengambil konten artikel\n",
        "                html_konten = requests.get(link).text\n",
        "                soup_konten = bs(html_konten, 'html.parser')\n",
        "\n",
        "                # Mengekstrak detail artikel\n",
        "                container_konten = soup_konten.find_all(\"div\", class_=\"container\")\n",
        "\n",
        "                for containers_konten in container_konten:\n",
        "                    articles_konten = containers_konten.find_all(\"article\", class_=\"detail\")\n",
        "\n",
        "                    for article_konten in articles_konten:\n",
        "                        # Mengekstrak dan memformat tanggal\n",
        "                        tanggal = article_konten.find(\"div\", class_=\"detail__date\")\n",
        "                        if tanggal:\n",
        "                            tgl = tanggal.text.strip()\n",
        "                            date = \" \".join(tgl.split(\", \")[1].split(\" \")[:3])\n",
        "\n",
        "                        # Mengekstrak konten artikel\n",
        "                        konten = article_konten.find_all(\"p\", class_ = None)\n",
        "\n",
        "                        # Menyimpan data yang diekstrak\n",
        "                        berita.append({\n",
        "                            'judul': judul,\n",
        "                            'tanggal': date,\n",
        "                            'konten': '\\n'.join([iii.text.strip() for iii in konten]),\n",
        "                            'kategori': i\n",
        "                        })\n"
      ]
    },
    {
      "cell_type": "code",
      "execution_count": 4,
      "metadata": {
        "id": "0Glpzpmj_FRa"
      },
      "outputs": [
        {
          "name": "stdout",
          "output_type": "stream",
          "text": [
            "Kategori - edu:\n"
          ]
        },
        {
          "name": "stderr",
          "output_type": "stream",
          "text": [
            "\tHalaman - 1: 100%|██████████| 5/5 [00:17<00:00,  3.42s/it]\n",
            "\tHalaman - 2: 100%|██████████| 5/5 [00:21<00:00,  4.25s/it]\n",
            "\tHalaman - 3: 100%|██████████| 5/5 [00:19<00:00,  3.90s/it]\n",
            "\tHalaman - 4: 100%|██████████| 5/5 [00:24<00:00,  4.82s/it]\n",
            "\tHalaman - 5: 100%|██████████| 5/5 [00:28<00:00,  5.60s/it]\n"
          ]
        },
        {
          "name": "stdout",
          "output_type": "stream",
          "text": [
            "Kategori - properti:\n"
          ]
        },
        {
          "name": "stderr",
          "output_type": "stream",
          "text": [
            "\tHalaman - 1: 100%|██████████| 5/5 [00:19<00:00,  3.99s/it]\n",
            "\tHalaman - 2: 100%|██████████| 5/5 [00:33<00:00,  6.80s/it]\n",
            "\tHalaman - 3: 100%|██████████| 5/5 [00:26<00:00,  5.28s/it]\n",
            "\tHalaman - 4: 100%|██████████| 5/5 [00:25<00:00,  5.07s/it]\n",
            "\tHalaman - 5: 100%|██████████| 5/5 [00:26<00:00,  5.24s/it]\n"
          ]
        }
      ],
      "source": [
        "# Implementasi Scraping untuk Grup Kategori 2\n",
        "for i in kategori2:\n",
        "    print(f'Kategori - {i}:')\n",
        "    for ii in range(halaman):\n",
        "        url = f'https://www.detik.com/{i}/indeks?page={ii+1}'\n",
        "\n",
        "        html = requests.get(url).text\n",
        "        soup = bs(html, 'html.parser')\n",
        "\n",
        "        container = soup.find_all(\"div\", class_=\"container\")\n",
        "\n",
        "        for containers in tqdm(container, desc=f\"\\tHalaman - {ii+1}\"):\n",
        "            articles = containers.find_all(\"article\", class_=\"list-content__item\")\n",
        "\n",
        "            for article in articles:\n",
        "                judul = article.find(\"h3\", class_=\"media__title\").text.strip()\n",
        "\n",
        "                if judul.startswith(\"Video\") or judul.startswith(\"Infografis\"):\n",
        "                    continue\n",
        "\n",
        "                link = article.find(\"a\")[\"href\"]\n",
        "                html_konten = requests.get(link).text\n",
        "                soup_konten = bs(html_konten, 'html.parser')\n",
        "\n",
        "                container_konten = soup_konten.find_all(\"div\", class_=\"container\")\n",
        "\n",
        "                for containers_konten in container_konten:\n",
        "                    articles_konten = containers_konten.find_all(\"article\", class_=\"detail\")\n",
        "\n",
        "                    for article_konten in articles_konten:\n",
        "                        tanggal = article_konten.find(\"div\", class_=\"detail__date\")\n",
        "                        if tanggal:\n",
        "                            tgl = tanggal.text.strip()\n",
        "                            date = \" \".join(tgl.split(\", \")[1].split(\" \")[:3])\n",
        "\n",
        "                        konten = article_konten.find_all(\"p\", class_ = None)\n",
        "\n",
        "                        berita.append({\n",
        "                            'judul': judul,\n",
        "                            'tanggal': date,\n",
        "                            'konten': '\\n'.join([iii.text.strip() for iii in konten]),\n",
        "                            'kategori': i\n",
        "                        })\n"
      ]
    },
    {
      "cell_type": "markdown",
      "metadata": {},
      "source": [
        "## Analisis dan Visualisasi Data\n",
        "\n",
        "Setelah proses scraping, dilakukan analisis dasar terhadap data yang terkumpul dengan langkah-langkah berikut:  \n",
        "1. Mengonversi data yang terkumpul menjadi pandas DataFrame  \n",
        "2. Memeriksa nilai yang hilang (missing values)  \n",
        "3. Menganalisis distribusi kategori  \n",
        "4. Memvisualisasikan hasil analisis  "
      ]
    },
    {
      "cell_type": "code",
      "execution_count": 5,
      "metadata": {
        "id": "UYoh_79DJK8z"
      },
      "outputs": [
        {
          "data": {
            "text/html": [
              "<div>\n",
              "<style scoped>\n",
              "    .dataframe tbody tr th:only-of-type {\n",
              "        vertical-align: middle;\n",
              "    }\n",
              "\n",
              "    .dataframe tbody tr th {\n",
              "        vertical-align: top;\n",
              "    }\n",
              "\n",
              "    .dataframe thead th {\n",
              "        text-align: right;\n",
              "    }\n",
              "</style>\n",
              "<table border=\"1\" class=\"dataframe\">\n",
              "  <thead>\n",
              "    <tr style=\"text-align: right;\">\n",
              "      <th></th>\n",
              "      <th>judul</th>\n",
              "      <th>tanggal</th>\n",
              "      <th>konten</th>\n",
              "      <th>kategori</th>\n",
              "    </tr>\n",
              "  </thead>\n",
              "  <tbody>\n",
              "    <tr>\n",
              "      <th>0</th>\n",
              "      <td>Begini Jurus Pemerintah Capai Swasembada Garam...</td>\n",
              "      <td>05 Jan 2025</td>\n",
              "      <td>Kementerian Kelautan dan Perikanan (KKP) menar...</td>\n",
              "      <td>finance</td>\n",
              "    </tr>\n",
              "    <tr>\n",
              "      <th>1</th>\n",
              "      <td>Pengelolaan Risiko Dana Pensiun BRI Raih Serti...</td>\n",
              "      <td>05 Jan 2025</td>\n",
              "      <td>Dana Pensiun Bank Rakyat Indonesia (Dapen BRI)...</td>\n",
              "      <td>finance</td>\n",
              "    </tr>\n",
              "    <tr>\n",
              "      <th>2</th>\n",
              "      <td>Kisah Sukses Rumah BUMN BRI di Kotamobagu: Sem...</td>\n",
              "      <td>05 Jan 2025</td>\n",
              "      <td>Pelaku Usaha Mikro, Kecil, dan Menengah (UMKM)...</td>\n",
              "      <td>finance</td>\n",
              "    </tr>\n",
              "    <tr>\n",
              "      <th>3</th>\n",
              "      <td>Operasional Mulai Besok, Ini Daftar Lengkap 19...</td>\n",
              "      <td>05 Jan 2025</td>\n",
              "      <td>Badan Gizi Nasional (BGN) merilis 190 lokasi S...</td>\n",
              "      <td>finance</td>\n",
              "    </tr>\n",
              "    <tr>\n",
              "      <th>4</th>\n",
              "      <td>Microsoft Siapkan Dana hingga Rp 1,29 T buat I...</td>\n",
              "      <td>05 Jan 2025</td>\n",
              "      <td>Microsoft berencana investasi sekitar US$ 80 m...</td>\n",
              "      <td>finance</td>\n",
              "    </tr>\n",
              "    <tr>\n",
              "      <th>...</th>\n",
              "      <td>...</td>\n",
              "      <td>...</td>\n",
              "      <td>...</td>\n",
              "      <td>...</td>\n",
              "    </tr>\n",
              "    <tr>\n",
              "      <th>847</th>\n",
              "      <td>Daftar 5 Rumah Murah di Panji Jateng, Mulai da...</td>\n",
              "      <td>31 Des 2024</td>\n",
              "      <td>Bagi yang menginginkan hunian di Jawa Timur, d...</td>\n",
              "      <td>properti</td>\n",
              "    </tr>\n",
              "    <tr>\n",
              "      <th>848</th>\n",
              "      <td>Jangan Tanam 7 Pohon Ini Dekat Rumah Kalau Tid...</td>\n",
              "      <td>31 Des 2024</td>\n",
              "      <td>Pohon memang memberikan banyak manfaat jika di...</td>\n",
              "      <td>properti</td>\n",
              "    </tr>\n",
              "    <tr>\n",
              "      <th>849</th>\n",
              "      <td>Ular Kadut Vs Cacing Besar Alaska: Tren Motif ...</td>\n",
              "      <td>31 Des 2024</td>\n",
              "      <td>Belakangan ini netizen tengah ramai menunjukka...</td>\n",
              "      <td>properti</td>\n",
              "    </tr>\n",
              "    <tr>\n",
              "      <th>850</th>\n",
              "      <td>Sama-sama dari Bahan Sintesis, Ini Perbedaan L...</td>\n",
              "      <td>30 Des 2024</td>\n",
              "      <td>Saat ini bukan hanya dinding yang bisa dihias ...</td>\n",
              "      <td>properti</td>\n",
              "    </tr>\n",
              "    <tr>\n",
              "      <th>851</th>\n",
              "      <td>Tinggal Tunggu PMK, 48 Ribu Rumah Subsidi Siap...</td>\n",
              "      <td>30 Des 2024</td>\n",
              "      <td>Menteri Perumahan dan Kawasan Permukiman menga...</td>\n",
              "      <td>properti</td>\n",
              "    </tr>\n",
              "  </tbody>\n",
              "</table>\n",
              "<p>852 rows × 4 columns</p>\n",
              "</div>"
            ],
            "text/plain": [
              "                                                 judul      tanggal  \\\n",
              "0    Begini Jurus Pemerintah Capai Swasembada Garam...  05 Jan 2025   \n",
              "1    Pengelolaan Risiko Dana Pensiun BRI Raih Serti...  05 Jan 2025   \n",
              "2    Kisah Sukses Rumah BUMN BRI di Kotamobagu: Sem...  05 Jan 2025   \n",
              "3    Operasional Mulai Besok, Ini Daftar Lengkap 19...  05 Jan 2025   \n",
              "4    Microsoft Siapkan Dana hingga Rp 1,29 T buat I...  05 Jan 2025   \n",
              "..                                                 ...          ...   \n",
              "847  Daftar 5 Rumah Murah di Panji Jateng, Mulai da...  31 Des 2024   \n",
              "848  Jangan Tanam 7 Pohon Ini Dekat Rumah Kalau Tid...  31 Des 2024   \n",
              "849  Ular Kadut Vs Cacing Besar Alaska: Tren Motif ...  31 Des 2024   \n",
              "850  Sama-sama dari Bahan Sintesis, Ini Perbedaan L...  30 Des 2024   \n",
              "851  Tinggal Tunggu PMK, 48 Ribu Rumah Subsidi Siap...  30 Des 2024   \n",
              "\n",
              "                                                konten  kategori  \n",
              "0    Kementerian Kelautan dan Perikanan (KKP) menar...   finance  \n",
              "1    Dana Pensiun Bank Rakyat Indonesia (Dapen BRI)...   finance  \n",
              "2    Pelaku Usaha Mikro, Kecil, dan Menengah (UMKM)...   finance  \n",
              "3    Badan Gizi Nasional (BGN) merilis 190 lokasi S...   finance  \n",
              "4    Microsoft berencana investasi sekitar US$ 80 m...   finance  \n",
              "..                                                 ...       ...  \n",
              "847  Bagi yang menginginkan hunian di Jawa Timur, d...  properti  \n",
              "848  Pohon memang memberikan banyak manfaat jika di...  properti  \n",
              "849  Belakangan ini netizen tengah ramai menunjukka...  properti  \n",
              "850  Saat ini bukan hanya dinding yang bisa dihias ...  properti  \n",
              "851  Menteri Perumahan dan Kawasan Permukiman menga...  properti  \n",
              "\n",
              "[852 rows x 4 columns]"
            ]
          },
          "execution_count": 5,
          "metadata": {},
          "output_type": "execute_result"
        }
      ],
      "source": [
        "# Convert data ke DataFrame\n",
        "df = pd.DataFrame(berita)\n",
        "df"
      ]
    },
    {
      "cell_type": "code",
      "execution_count": 6,
      "metadata": {
        "id": "GgQA6m4HfDg-"
      },
      "outputs": [
        {
          "data": {
            "text/plain": [
              "judul       0\n",
              "tanggal     0\n",
              "konten      0\n",
              "kategori    0\n",
              "dtype: int64"
            ]
          },
          "execution_count": 6,
          "metadata": {},
          "output_type": "execute_result"
        }
      ],
      "source": [
        "# Check missing values di dataset\n",
        "df.isna().sum()"
      ]
    },
    {
      "cell_type": "code",
      "execution_count": 7,
      "metadata": {
        "id": "SWcW3kXYfGye"
      },
      "outputs": [
        {
          "data": {
            "text/plain": [
              "kategori\n",
              "food        100\n",
              "properti    100\n",
              "sport        98\n",
              "oto          97\n",
              "finance      96\n",
              "inet         91\n",
              "travel       90\n",
              "health       90\n",
              "edu          90\n",
              "Name: count, dtype: int64"
            ]
          },
          "execution_count": 7,
          "metadata": {},
          "output_type": "execute_result"
        }
      ],
      "source": [
        "# Display persebaran kategori\n",
        "df['kategori'].value_counts()"
      ]
    },
    {
      "cell_type": "code",
      "execution_count": 8,
      "metadata": {
        "id": "TDVYTymBfKX3"
      },
      "outputs": [
        {
          "data": {
            "image/png": "[encoded data removed]",
            "text/plain": [
              "<Figure size 800x500 with 1 Axes>"
            ]
          },
          "metadata": {},
          "output_type": "display_data"
        }
      ],
      "source": [
        "# Visualize persebaran kategori\n",
        "import matplotlib.pyplot as plt\n",
        "\n",
        "class_count = df['kategori'].value_counts()\n",
        "\n",
        "plt.figure(figsize=(8, 5))\n",
        "class_count.plot(kind='bar')\n",
        "plt.xlabel('Kategori')\n",
        "plt.ylabel('Jumlah Data')\n",
        "plt.title('Distribution of Articles by Category')\n",
        "plt.xticks(rotation=45)\n",
        "plt.tight_layout()\n",
        "plt.show()"
      ]
    },
    {
      "cell_type": "markdown",
      "metadata": {},
      "source": [
        "## Ekspor Data\n",
        "\n",
        "Terakhir, kita mengekspor data yang terkumpul ke dalam file CSV untuk analisis lebih lanjut atau digunakan di aplikasi lain."
      ]
    },
    {
      "cell_type": "code",
      "execution_count": 13,
      "metadata": {
        "id": "GkfGXLvqKoid"
      },
      "outputs": [
        {
          "name": "stdout",
          "output_type": "stream",
          "text": [
            "File successfully saved to data\\berita.csv\n"
          ]
        }
      ],
      "source": [
        "# Export dengan bentuk dataset CSV\n",
        "folder_path = 'data'\n",
        "file_path = os.path.join(folder_path, 'berita.csv')\n",
        "\n",
        "if not os.path.exists(folder_path):\n",
        "    os.makedirs(folder_path)\n",
        "\n",
        "df.to_csv(file_path, index=False)\n",
        "\n",
        "print(f\"File successfully saved to {file_path}\")"
      ]
    }
  ],
  "metadata": {
    "colab": {
      "provenance": []
    },
    "kernelspec": {
      "display_name": "Python 3",
      "name": "python3"
    },
    "language_info": {
      "codemirror_mode": {
        "name": "ipython",
        "version": 3
      },
      "file_extension": ".py",
      "mimetype": "text/x-python",
      "name": "python",
      "nbconvert_exporter": "python",
      "pygments_lexer": "ipython3",
      "version": "3.10.11"
    }
  },
  "nbformat": 4,
  "nbformat_minor": 0
}
