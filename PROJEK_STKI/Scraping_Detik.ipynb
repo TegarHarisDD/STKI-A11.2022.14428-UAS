{
  "cells": [
    {
      "cell_type": "code",
      "execution_count": 10,
      "metadata": {
        "id": "vzz_cJnSchJN"
      },
      "outputs": [],
      "source": [
        "from bs4 import BeautifulSoup as bs # tool scraping\n",
        "from tqdm import tqdm \n",
        "\n",
        "import requests\n",
        "import pandas as pd"
      ]
    },
    {
      "cell_type": "markdown",
      "metadata": {},
      "source": [
        "Kategori:\n",
        "\n",
        "finance: ekonomi, bisnis, dan investasi.\n",
        "\n",
        "inet: teknologi, informasi, dan gadget.\n",
        "\n",
        "sport: seputar olahraga.\n",
        "\n",
        "oto: otomotif luar dan dalam negeri.\n",
        "\n",
        "travel: inspirasi jalan-jalan ke mana saja.\n",
        "\n",
        "food: kabar kuliner, resep, dan rekomendasi tempat makan.\n",
        "\n",
        "health: artikel kesehatan, diet, seks, dan konsultasi.\n",
        "\n",
        "edu: dunia pendidikan.\n",
        "\n",
        "properti: jual beli, sewa rumah, dan apartemen tanah\n"
      ]
    },
    {
      "cell_type": "code",
      "execution_count": 11,
      "metadata": {
        "id": "chAQbaFXdBbt"
      },
      "outputs": [],
      "source": [
        "kategori1 = ['finance', 'inet', 'sport', 'oto', 'travel', 'food', 'health']\n",
        "kategori2 = ['edu', 'properti']\n",
        "\n",
        "# dibedakan karena susunan URL nya berbeda\n",
        "\n",
        "\n",
        "halaman = 5 # jumlah halaman, satu halaman memuat sekitar 20 berita\n",
        "berita = []"
      ]
    },
    {
      "cell_type": "markdown",
      "metadata": {
        "id": "9SGga2Yc2qKi"
      },
      "source": [
        "# Scraping"
      ]
    },
    {
      "cell_type": "code",
      "execution_count": 12,
      "metadata": {
        "colab": {
          "base_uri": "https://localhost:8080/"
        },
        "id": "F6SNC2pWeGnT",
        "outputId": "bf18b7d6-1a85-4c7d-e9bd-074c4dc3f3bc"
      },
      "outputs": [
        {
          "name": "stdout",
          "output_type": "stream",
          "text": [
            "Kategori - finance:\n"
          ]
        },
        {
          "name": "stderr",
          "output_type": "stream",
          "text": [
            "\tHalaman - 1: 100%|██████████| 5/5 [00:07<00:00,  1.43s/it]\n",
            "\tHalaman - 2: 100%|██████████| 5/5 [00:11<00:00,  2.38s/it]\n",
            "\tHalaman - 3: 100%|██████████| 5/5 [00:09<00:00,  1.89s/it]\n",
            "\tHalaman - 4: 100%|██████████| 5/5 [00:10<00:00,  2.18s/it]\n",
            "\tHalaman - 5: 100%|██████████| 5/5 [00:11<00:00,  2.36s/it]\n"
          ]
        },
        {
          "name": "stdout",
          "output_type": "stream",
          "text": [
            "Kategori - inet:\n"
          ]
        },
        {
          "name": "stderr",
          "output_type": "stream",
          "text": [
            "\tHalaman - 1: 100%|██████████| 5/5 [00:06<00:00,  1.34s/it]\n",
            "\tHalaman - 2: 100%|██████████| 5/5 [00:15<00:00,  3.14s/it]\n",
            "\tHalaman - 3: 100%|██████████| 5/5 [00:11<00:00,  2.24s/it]\n",
            "\tHalaman - 4: 100%|██████████| 5/5 [00:21<00:00,  4.23s/it]\n",
            "\tHalaman - 5: 100%|██████████| 5/5 [00:24<00:00,  4.81s/it]\n"
          ]
        },
        {
          "name": "stdout",
          "output_type": "stream",
          "text": [
            "Kategori - sport:\n"
          ]
        },
        {
          "name": "stderr",
          "output_type": "stream",
          "text": [
            "\tHalaman - 1: 100%|██████████| 5/5 [00:17<00:00,  3.43s/it]\n",
            "\tHalaman - 2: 100%|██████████| 5/5 [00:29<00:00,  5.88s/it]\n",
            "\tHalaman - 3: 100%|██████████| 5/5 [00:38<00:00,  7.76s/it]\n",
            "\tHalaman - 4: 100%|██████████| 5/5 [00:33<00:00,  6.66s/it]\n",
            "\tHalaman - 5: 100%|██████████| 5/5 [00:33<00:00,  6.77s/it]\n"
          ]
        },
        {
          "name": "stdout",
          "output_type": "stream",
          "text": [
            "Kategori - oto:\n"
          ]
        },
        {
          "name": "stderr",
          "output_type": "stream",
          "text": [
            "\tHalaman - 1: 100%|██████████| 5/5 [00:11<00:00,  2.21s/it]\n",
            "\tHalaman - 2: 100%|██████████| 5/5 [00:19<00:00,  3.92s/it]\n",
            "\tHalaman - 3: 100%|██████████| 5/5 [00:13<00:00,  2.78s/it]\n",
            "\tHalaman - 4: 100%|██████████| 5/5 [00:29<00:00,  5.93s/it]\n",
            "\tHalaman - 5: 100%|██████████| 5/5 [00:21<00:00,  4.30s/it]\n"
          ]
        },
        {
          "name": "stdout",
          "output_type": "stream",
          "text": [
            "Kategori - travel:\n"
          ]
        },
        {
          "name": "stderr",
          "output_type": "stream",
          "text": [
            "\tHalaman - 1: 100%|██████████| 5/5 [00:14<00:00,  2.86s/it]\n",
            "\tHalaman - 2: 100%|██████████| 5/5 [00:15<00:00,  3.07s/it]\n",
            "\tHalaman - 3: 100%|██████████| 5/5 [00:23<00:00,  4.62s/it]\n",
            "\tHalaman - 4: 100%|██████████| 5/5 [00:24<00:00,  4.86s/it]\n",
            "\tHalaman - 5: 100%|██████████| 5/5 [00:32<00:00,  6.53s/it]\n"
          ]
        },
        {
          "name": "stdout",
          "output_type": "stream",
          "text": [
            "Kategori - food:\n"
          ]
        },
        {
          "name": "stderr",
          "output_type": "stream",
          "text": [
            "\tHalaman - 1: 100%|██████████| 5/5 [00:12<00:00,  2.50s/it]\n",
            "\tHalaman - 2: 100%|██████████| 5/5 [00:26<00:00,  5.31s/it]\n",
            "\tHalaman - 3: 100%|██████████| 5/5 [00:41<00:00,  8.22s/it]\n",
            "\tHalaman - 4: 100%|██████████| 5/5 [00:43<00:00,  8.68s/it]\n",
            "\tHalaman - 5: 100%|██████████| 5/5 [00:43<00:00,  8.66s/it]\n"
          ]
        },
        {
          "name": "stdout",
          "output_type": "stream",
          "text": [
            "Kategori - health:\n"
          ]
        },
        {
          "name": "stderr",
          "output_type": "stream",
          "text": [
            "\tHalaman - 1: 100%|██████████| 5/5 [00:18<00:00,  3.78s/it]\n",
            "\tHalaman - 2: 100%|██████████| 5/5 [00:19<00:00,  3.84s/it]\n",
            "\tHalaman - 3: 100%|██████████| 5/5 [00:21<00:00,  4.26s/it]\n",
            "\tHalaman - 4: 100%|██████████| 5/5 [00:23<00:00,  4.60s/it]\n",
            "\tHalaman - 5: 100%|██████████| 5/5 [00:22<00:00,  4.57s/it]\n"
          ]
        }
      ],
      "source": [
        "# -- Kategori 1 --\n",
        "\n",
        "for i in kategori1:\n",
        "    print(f\"Kategori - {i}:\")\n",
        "    for ii in range(halaman):\n",
        "        url = f'https://{i}.detik.com/indeks?page={ii+1}'\n",
        "\n",
        "        html = requests.get(url).text\n",
        "        soup = bs(html, 'html.parser')\n",
        "\n",
        "        container = soup.find_all(\"div\", class_=\"container\")\n",
        "\n",
        "        for containers in tqdm(container, desc=f\"\\tHalaman - {ii+1}\"):\n",
        "            articles = containers.find_all(\"article\", class_=\"list-content__item\")\n",
        "\n",
        "            for article in articles:\n",
        "                judul = article.find(\"h3\", class_=\"media__title\").text.strip()\n",
        "\n",
        "                # Karena judul berita yang diawali dengan \"Video\" itu pasti berupa video, bukan data text, jadi di sini dihapus (tidak dimasukkan), atau dilewati\n",
        "                # \"Infografis\" = gambar\n",
        "\n",
        "                if judul.startswith(\"Video\") or judul.startswith(\"Infografis\"):\n",
        "                    continue\n",
        "\n",
        "                link = article.find(\"a\")[\"href\"]\n",
        "\n",
        "                #print(judul)\n",
        "                #print(link)\n",
        "\n",
        "                html_konten = requests.get(link).text\n",
        "                soup_konten = bs(html_konten, 'html.parser')\n",
        "\n",
        "                container_konten = soup_konten.find_all(\"div\", class_=\"container\")\n",
        "\n",
        "                for containers_konten in container_konten:\n",
        "                    articles_konten = containers_konten.find_all(\"article\", class_=\"detail\")\n",
        "\n",
        "                    for article_konten in articles_konten:\n",
        "                        #tanggal\n",
        "                        tanggal = article_konten.find(\"div\", class_=\"detail__date\")\n",
        "                        if tanggal:\n",
        "                            tgl = tanggal.text.strip()\n",
        "                            date = \" \".join(tgl.split(\", \")[1].split(\" \")[:3])\n",
        "\n",
        "                        konten = article_konten.find_all(\"p\", class_ = None)\n",
        "\n",
        "                        berita.append({\n",
        "                            'judul': judul,\n",
        "                            'tanggal': date,\n",
        "                            'konten': '\\n'.join([iii.text.strip() for iii in konten]),\n",
        "                            'kategori': i\n",
        "                        })"
      ]
    },
    {
      "cell_type": "code",
      "execution_count": 13,
      "metadata": {
        "colab": {
          "base_uri": "https://localhost:8080/"
        },
        "id": "0Glpzpmj_FRa",
        "outputId": "bad91c9b-f7b9-4d14-b15c-f1c450c96f18"
      },
      "outputs": [
        {
          "name": "stdout",
          "output_type": "stream",
          "text": [
            "Kategori - edu:\n"
          ]
        },
        {
          "name": "stderr",
          "output_type": "stream",
          "text": [
            "\tHalaman - 1: 100%|██████████| 5/5 [00:11<00:00,  2.37s/it]\n",
            "\tHalaman - 2: 100%|██████████| 5/5 [00:28<00:00,  5.76s/it]\n",
            "\tHalaman - 3: 100%|██████████| 5/5 [00:19<00:00,  3.97s/it]\n",
            "\tHalaman - 4: 100%|██████████| 5/5 [00:15<00:00,  3.15s/it]\n",
            "\tHalaman - 5: 100%|██████████| 5/5 [00:30<00:00,  6.17s/it]\n"
          ]
        },
        {
          "name": "stdout",
          "output_type": "stream",
          "text": [
            "Kategori - properti:\n"
          ]
        },
        {
          "name": "stderr",
          "output_type": "stream",
          "text": [
            "\tHalaman - 1: 100%|██████████| 5/5 [00:15<00:00,  3.09s/it]\n",
            "\tHalaman - 2: 100%|██████████| 5/5 [00:29<00:00,  5.90s/it]\n",
            "\tHalaman - 3: 100%|██████████| 5/5 [00:24<00:00,  4.94s/it]\n",
            "\tHalaman - 4: 100%|██████████| 5/5 [00:28<00:00,  5.69s/it]\n",
            "\tHalaman - 5: 100%|██████████| 5/5 [01:19<00:00, 15.90s/it]\n"
          ]
        }
      ],
      "source": [
        "# -- Kategori 2 --\n",
        "\n",
        "# Dibuat beda sel, karena lama (tergantung jumlah halaman)\n",
        "\n",
        "for i in kategori2:\n",
        "    print(f'Kategori - {i}:')\n",
        "    for ii in range(halaman):\n",
        "        url = f'https://www.detik.com/{i}/indeks?page={ii+1}'\n",
        "\n",
        "        html = requests.get(url).text\n",
        "        soup = bs(html, 'html.parser')\n",
        "\n",
        "        container = soup.find_all(\"div\", class_=\"container\")\n",
        "\n",
        "        for containers in tqdm(container, desc=f\"\\tHalaman - {ii+1}\"):\n",
        "            articles = containers.find_all(\"article\", class_=\"list-content__item\")\n",
        "\n",
        "            for article in articles:\n",
        "                judul = article.find(\"h3\", class_=\"media__title\").text.strip()\n",
        "\n",
        "                if judul.startswith(\"Video\") or judul.startswith(\"Infografis\"):\n",
        "                    continue\n",
        "\n",
        "                link = article.find(\"a\")[\"href\"]\n",
        "\n",
        "                #print(judul)\n",
        "                #print(link)\n",
        "\n",
        "                html_konten = requests.get(link).text\n",
        "                soup_konten = bs(html_konten, 'html.parser')\n",
        "\n",
        "                container_konten = soup_konten.find_all(\"div\", class_=\"container\")\n",
        "\n",
        "                for containers_konten in container_konten:\n",
        "                    articles_konten = containers_konten.find_all(\"article\", class_=\"detail\")\n",
        "\n",
        "                    for article_konten in articles_konten:\n",
        "                        #tanggal\n",
        "                        tanggal = article_konten.find(\"div\", class_=\"detail__date\")\n",
        "                        if tanggal:\n",
        "                            tgl = tanggal.text.strip()\n",
        "                            date = \" \".join(tgl.split(\", \")[1].split(\" \")[:3])\n",
        "\n",
        "                        konten = article_konten.find_all(\"p\", class_ = None)\n",
        "\n",
        "                        berita.append({\n",
        "                            'judul': judul,\n",
        "                            'tanggal': date,\n",
        "                            'konten': '\\n'.join([iii.text.strip() for iii in konten]),\n",
        "                            'kategori': i\n",
        "                        })"
      ]
    },
    {
      "cell_type": "code",
      "execution_count": 14,
      "metadata": {
        "colab": {
          "base_uri": "https://localhost:8080/",
          "height": 423
        },
        "id": "UYoh_79DJK8z",
        "outputId": "8b62b6f1-afb3-442d-d530-772fd90717c3"
      },
      "outputs": [
        {
          "data": {
            "text/html": [
              "<div>\n",
              "<style scoped>\n",
              "    .dataframe tbody tr th:only-of-type {\n",
              "        vertical-align: middle;\n",
              "    }\n",
              "\n",
              "    .dataframe tbody tr th {\n",
              "        vertical-align: top;\n",
              "    }\n",
              "\n",
              "    .dataframe thead th {\n",
              "        text-align: right;\n",
              "    }\n",
              "</style>\n",
              "<table border=\"1\" class=\"dataframe\">\n",
              "  <thead>\n",
              "    <tr style=\"text-align: right;\">\n",
              "      <th></th>\n",
              "      <th>judul</th>\n",
              "      <th>tanggal</th>\n",
              "      <th>konten</th>\n",
              "      <th>kategori</th>\n",
              "    </tr>\n",
              "  </thead>\n",
              "  <tbody>\n",
              "    <tr>\n",
              "      <th>0</th>\n",
              "      <td>5 Catatan Ganjar Soal Efek PPN 12%: Tabungan M...</td>\n",
              "      <td>19 Des 2024</td>\n",
              "      <td>Eks Gubernur Jawa Tengah Ganjar Pranowo mengun...</td>\n",
              "      <td>finance</td>\n",
              "    </tr>\n",
              "    <tr>\n",
              "      <th>1</th>\n",
              "      <td>Momen Menperin Beri Penghargaan Bagi Penggiat IKM</td>\n",
              "      <td>19 Des 2024</td>\n",
              "      <td>Jakarta - Menteri Perindustrian Agus Gumiwang ...</td>\n",
              "      <td>finance</td>\n",
              "    </tr>\n",
              "    <tr>\n",
              "      <th>2</th>\n",
              "      <td>Tolak PPN 12%, K-Popers &amp; Gen Z: Harga Tiket K...</td>\n",
              "      <td>19 Des 2024</td>\n",
              "      <td>Berbagai kalangan masyarakat menolak kenaikan ...</td>\n",
              "      <td>finance</td>\n",
              "    </tr>\n",
              "    <tr>\n",
              "      <th>3</th>\n",
              "      <td>Ganjar Usul Kejar Pajak Orang Kaya daripada Na...</td>\n",
              "      <td>19 Des 2024</td>\n",
              "      <td>Pemerintah diusulkan mengejar pajak orang kaya...</td>\n",
              "      <td>finance</td>\n",
              "    </tr>\n",
              "    <tr>\n",
              "      <th>4</th>\n",
              "      <td>Seniman Irak Daur Ulang Barang Bekas Jadi Kary...</td>\n",
              "      <td>19 Des 2024</td>\n",
              "      <td>Baghdad - Salwan Kareem, seniman Irak, mencipt...</td>\n",
              "      <td>finance</td>\n",
              "    </tr>\n",
              "    <tr>\n",
              "      <th>...</th>\n",
              "      <td>...</td>\n",
              "      <td>...</td>\n",
              "      <td>...</td>\n",
              "      <td>...</td>\n",
              "    </tr>\n",
              "    <tr>\n",
              "      <th>847</th>\n",
              "      <td>Menteri Ara Lapor ke Prabowo Sudah Sediakan 30...</td>\n",
              "      <td>16 Des 2024</td>\n",
              "      <td>Menteri Perumahan dan Kawasan Permukiman (PKP)...</td>\n",
              "      <td>properti</td>\n",
              "    </tr>\n",
              "    <tr>\n",
              "      <th>848</th>\n",
              "      <td>BTN Salurkan KPR 5,4 Juta Unit Rumah Dalam 48 ...</td>\n",
              "      <td>15 Des 2024</td>\n",
              "      <td>Direktur Utama PT BTN (Persero) Tbk, Nixon LP ...</td>\n",
              "      <td>properti</td>\n",
              "    </tr>\n",
              "    <tr>\n",
              "      <th>849</th>\n",
              "      <td>Ini yang Bikin Asbes Berbahaya buat Kesehatan ...</td>\n",
              "      <td>15 Des 2024</td>\n",
              "      <td>Asbes merupakan yang bahan atap rumah. Materia...</td>\n",
              "      <td>properti</td>\n",
              "    </tr>\n",
              "    <tr>\n",
              "      <th>850</th>\n",
              "      <td>Biang Kerok Rumah Selalu Terlihat Berantakan M...</td>\n",
              "      <td>15 Des 2024</td>\n",
              "      <td>Terkadang kamu sering merasa frustasi karena r...</td>\n",
              "      <td>properti</td>\n",
              "    </tr>\n",
              "    <tr>\n",
              "      <th>851</th>\n",
              "      <td>Kementerian PKP Mau Gaet World Bank buat Progr...</td>\n",
              "      <td>15 Des 2024</td>\n",
              "      <td>Menteri Perumahan dan Kawasan Permukiman (PKP)...</td>\n",
              "      <td>properti</td>\n",
              "    </tr>\n",
              "  </tbody>\n",
              "</table>\n",
              "<p>852 rows × 4 columns</p>\n",
              "</div>"
            ],
            "text/plain": [
              "                                                 judul      tanggal  \\\n",
              "0    5 Catatan Ganjar Soal Efek PPN 12%: Tabungan M...  19 Des 2024   \n",
              "1    Momen Menperin Beri Penghargaan Bagi Penggiat IKM  19 Des 2024   \n",
              "2    Tolak PPN 12%, K-Popers & Gen Z: Harga Tiket K...  19 Des 2024   \n",
              "3    Ganjar Usul Kejar Pajak Orang Kaya daripada Na...  19 Des 2024   \n",
              "4    Seniman Irak Daur Ulang Barang Bekas Jadi Kary...  19 Des 2024   \n",
              "..                                                 ...          ...   \n",
              "847  Menteri Ara Lapor ke Prabowo Sudah Sediakan 30...  16 Des 2024   \n",
              "848  BTN Salurkan KPR 5,4 Juta Unit Rumah Dalam 48 ...  15 Des 2024   \n",
              "849  Ini yang Bikin Asbes Berbahaya buat Kesehatan ...  15 Des 2024   \n",
              "850  Biang Kerok Rumah Selalu Terlihat Berantakan M...  15 Des 2024   \n",
              "851  Kementerian PKP Mau Gaet World Bank buat Progr...  15 Des 2024   \n",
              "\n",
              "                                                konten  kategori  \n",
              "0    Eks Gubernur Jawa Tengah Ganjar Pranowo mengun...   finance  \n",
              "1    Jakarta - Menteri Perindustrian Agus Gumiwang ...   finance  \n",
              "2    Berbagai kalangan masyarakat menolak kenaikan ...   finance  \n",
              "3    Pemerintah diusulkan mengejar pajak orang kaya...   finance  \n",
              "4    Baghdad - Salwan Kareem, seniman Irak, mencipt...   finance  \n",
              "..                                                 ...       ...  \n",
              "847  Menteri Perumahan dan Kawasan Permukiman (PKP)...  properti  \n",
              "848  Direktur Utama PT BTN (Persero) Tbk, Nixon LP ...  properti  \n",
              "849  Asbes merupakan yang bahan atap rumah. Materia...  properti  \n",
              "850  Terkadang kamu sering merasa frustasi karena r...  properti  \n",
              "851  Menteri Perumahan dan Kawasan Permukiman (PKP)...  properti  \n",
              "\n",
              "[852 rows x 4 columns]"
            ]
          },
          "execution_count": 14,
          "metadata": {},
          "output_type": "execute_result"
        }
      ],
      "source": [
        "df = pd.DataFrame(berita)\n",
        "df"
      ]
    },
    {
      "cell_type": "code",
      "execution_count": 15,
      "metadata": {
        "colab": {
          "base_uri": "https://localhost:8080/",
          "height": 209
        },
        "id": "GgQA6m4HfDg-",
        "outputId": "421a1e67-2cf8-41b0-b0c6-0e109f87fa8e"
      },
      "outputs": [
        {
          "data": {
            "text/plain": [
              "judul       0\n",
              "tanggal     0\n",
              "konten      0\n",
              "kategori    0\n",
              "dtype: int64"
            ]
          },
          "execution_count": 15,
          "metadata": {},
          "output_type": "execute_result"
        }
      ],
      "source": [
        "df.isna().sum()"
      ]
    },
    {
      "cell_type": "code",
      "execution_count": 16,
      "metadata": {
        "colab": {
          "base_uri": "https://localhost:8080/",
          "height": 397
        },
        "id": "SWcW3kXYfGye",
        "outputId": "9b56da08-45ca-4098-e111-02a6f522f038"
      },
      "outputs": [
        {
          "data": {
            "text/plain": [
              "kategori\n",
              "food        99\n",
              "properti    99\n",
              "sport       98\n",
              "oto         97\n",
              "finance     95\n",
              "edu         95\n",
              "travel      94\n",
              "health      88\n",
              "inet        87\n",
              "Name: count, dtype: int64"
            ]
          },
          "execution_count": 16,
          "metadata": {},
          "output_type": "execute_result"
        }
      ],
      "source": [
        "df['kategori'].value_counts()"
      ]
    },
    {
      "cell_type": "code",
      "execution_count": 17,
      "metadata": {
        "colab": {
          "base_uri": "https://localhost:8080/",
          "height": 506
        },
        "id": "TDVYTymBfKX3",
        "outputId": "5164a637-7762-448f-ae6d-9704d1debdda"
      },
      "outputs": [
        {
          "data": {
            "image/png": "[encoded data removed]",
            "text/plain": [
              "<Figure size 800x500 with 1 Axes>"
            ]
          },
          "metadata": {},
          "output_type": "display_data"
        }
      ],
      "source": [
        "import matplotlib.pyplot as plt\n",
        "\n",
        "# plot jumlah kategori\n",
        "\n",
        "class_count = df['kategori'].value_counts()\n",
        "\n",
        "plt.figure(figsize=(8, 5))\n",
        "class_count.plot(kind='bar')\n",
        "plt.xlabel('Kategori')\n",
        "plt.ylabel('Jumlah Data')\n",
        "plt.show()"
      ]
    },
    {
      "cell_type": "code",
      "execution_count": 18,
      "metadata": {
        "id": "GkfGXLvqKoid"
      },
      "outputs": [],
      "source": [
        "df.to_csv('berita.csv', index=False) # simpan ke csv"
      ]
    }
  ],
  "metadata": {
    "colab": {
      "provenance": []
    },
    "kernelspec": {
      "display_name": "Python 3",
      "name": "python3"
    },
    "language_info": {
      "codemirror_mode": {
        "name": "ipython",
        "version": 3
      },
      "file_extension": ".py",
      "mimetype": "text/x-python",
      "name": "python",
      "nbconvert_exporter": "python",
      "pygments_lexer": "ipython3",
      "version": "3.10.11"
    }
  },
  "nbformat": 4,
  "nbformat_minor": 0
}
